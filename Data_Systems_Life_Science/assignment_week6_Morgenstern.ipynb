{
 "cells": [
  {
   "cell_type": "markdown",
   "metadata": {},
   "source": [
    "# Week 5 Assignment - Christina Morgenstern"
   ]
  },
  {
   "cell_type": "markdown",
   "metadata": {},
   "source": [
    "This assignment deals with the calculation of the Root-Mean-Square Deviation (RMSD) and the alignment of a Structure Ensemble."
   ]
  },
  {
   "cell_type": "code",
   "execution_count": 4,
   "metadata": {},
   "outputs": [],
   "source": [
    "# import libraries for assignment\n",
    "import numpy as np\n",
    "from math import sqrt"
   ]
  },
  {
   "cell_type": "markdown",
   "metadata": {},
   "source": [
    "### 1. Calculation of sum of square values along the spatial axis"
   ]
  },
  {
   "cell_type": "code",
   "execution_count": null,
   "metadata": {},
   "outputs": [],
   "source": [
    "## code from the book - doesn´t work\n",
    "\n",
    "# get differences in coordinates between two structure objects atomA and atom B\n",
    "deltas = atomA.coords - atomB.coords\n",
    "# calculation of sum of squares using the dot product of the deltas with itself\n",
    "sumSquares = dot(deltas, deltas)\n",
    "# apply square root function ot get distance\n",
    "distance = sqrt(sumSquares)"
   ]
  },
  {
   "cell_type": "markdown",
   "metadata": {},
   "source": [
    "### Calculate sum of squares using own calculation"
   ]
  },
  {
   "cell_type": "code",
   "execution_count": 27,
   "metadata": {},
   "outputs": [
    {
     "data": {
      "text/plain": [
       "array([[0.87311337, 0.4650483 , 0.02175383],\n",
       "       [0.34050416, 0.20652079, 0.43397447],\n",
       "       [0.40135528, 0.91681165, 0.56559819],\n",
       "       [0.03679406, 0.07542399, 0.65926746],\n",
       "       [0.24690185, 0.13079099, 0.29890612],\n",
       "       [0.5143671 , 0.29399035, 0.95450672],\n",
       "       [0.64505015, 0.68806958, 0.01331112],\n",
       "       [0.11266619, 0.73103454, 0.57206961],\n",
       "       [0.08361797, 0.71545553, 0.28093645],\n",
       "       [0.33215566, 0.86539733, 0.60528015]])"
      ]
     },
     "execution_count": 27,
     "metadata": {},
     "output_type": "execute_result"
    }
   ],
   "source": [
    "# initiate random array for atomA\n",
    "atomA = np.random.rand(10,3)\n",
    "atomA"
   ]
  },
  {
   "cell_type": "code",
   "execution_count": 28,
   "metadata": {},
   "outputs": [
    {
     "data": {
      "text/plain": [
       "array([[0.70720472, 0.01642684, 0.89501349],\n",
       "       [0.5404175 , 0.20331662, 0.14040896],\n",
       "       [0.25989247, 0.29805651, 0.0728992 ],\n",
       "       [0.39520778, 0.99203935, 0.14326951],\n",
       "       [0.18263977, 0.25253189, 0.78211407],\n",
       "       [0.79323247, 0.66159271, 0.85991583],\n",
       "       [0.25583227, 0.3421129 , 0.01677292],\n",
       "       [0.19423381, 0.66110968, 0.64549122],\n",
       "       [0.92772966, 0.11058382, 0.7960151 ],\n",
       "       [0.75941703, 0.27452772, 0.66924878]])"
      ]
     },
     "execution_count": 28,
     "metadata": {},
     "output_type": "execute_result"
    }
   ],
   "source": [
    "# initiate random array for atomB\n",
    "atomB = np.random.rand(10,3)\n",
    "atomB"
   ]
  },
  {
   "cell_type": "code",
   "execution_count": 29,
   "metadata": {},
   "outputs": [
    {
     "data": {
      "text/plain": [
       "array([[ 0.16590866,  0.44862146, -0.87325966],\n",
       "       [-0.19991334,  0.00320418,  0.29356551],\n",
       "       [ 0.1414628 ,  0.61875514,  0.49269899],\n",
       "       [-0.35841372, -0.91661536,  0.51599795],\n",
       "       [ 0.06426208, -0.1217409 , -0.48320795],\n",
       "       [-0.27886537, -0.36760236,  0.09459088],\n",
       "       [ 0.38921788,  0.34595667, -0.00346179],\n",
       "       [-0.08156762,  0.06992487, -0.07342161],\n",
       "       [-0.84411169,  0.6048717 , -0.51507865],\n",
       "       [-0.42726137,  0.5908696 , -0.06396863]])"
      ]
     },
     "execution_count": 29,
     "metadata": {},
     "output_type": "execute_result"
    }
   ],
   "source": [
    "# calculate the differences\n",
    "deltas = atomA - atomB\n",
    "deltas"
   ]
  },
  {
   "cell_type": "code",
   "execution_count": 30,
   "metadata": {},
   "outputs": [
    {
     "data": {
      "text/plain": [
       "array([-1.42928168,  1.27624501, -0.61554496])"
      ]
     },
     "execution_count": 30,
     "metadata": {},
     "output_type": "execute_result"
    }
   ],
   "source": [
    "# calculate the sum of squares \n",
    "sumSquares = np.sum(deltas, axis=0)\n",
    "sumSquares"
   ]
  },
  {
   "cell_type": "markdown",
   "metadata": {},
   "source": [
    "### 2. For loops to get summed values of all and then give a single value"
   ]
  },
  {
   "cell_type": "code",
   "execution_count": 44,
   "metadata": {},
   "outputs": [],
   "source": [
    "def calcRmsds(refCoords, allCoords, weights) :\n",
    "    \n",
    "    \"\"\"Function that calculates the RMSD.\n",
    "    \n",
    "    Input arguments:\n",
    "    \n",
    "    refCoords: array of reference coordinates\n",
    "    allCoords: list of other coordinate array to compare with\n",
    "    weights: list of weights\n",
    "    \n",
    "    Returns RMSD values for individual atoms (rmsd) \n",
    "    and each atom's RMSD over the whole set of conformations (atomRmsds)\"\"\"\n",
    "    \n",
    "    \n",
    "    rmsds = []\n",
    "    totalWeight = sum(weights)\n",
    "    totalSquares = zeros(refCoords.shape)\n",
    "    \n",
    "    for coords in allCoords :\n",
    "        \n",
    "        delta = coords-refCoords\n",
    "        squares = delta*delta\n",
    "        totalSquares += squares\n",
    "        sumSquares = weights*squares.sum(axis=1)\n",
    "        rmsds.append(sqrt(sum(sumSquares)/totalWeight))\n",
    "    \n",
    "    nStruct = len(allCoords)\n",
    "    \n",
    "    atomRmsds = sqrt(totalSquares.sum(axis=1)/nStruct)\n",
    "    \n",
    "    return rmsds, atomRmsds"
   ]
  },
  {
   "cell_type": "markdown",
   "metadata": {},
   "source": [
    "### 3. Alignment of all coordinate arrays to reference set"
   ]
  },
  {
   "cell_type": "code",
   "execution_count": 45,
   "metadata": {},
   "outputs": [],
   "source": [
    "def superimposeCoords(allCoords, weights, threshold=5.0) :\n",
    "    \n",
    "    \"\"\"Function that superimposes more than two coordinate arrays.\n",
    "     \n",
    "    Input arguments:\n",
    "    \n",
    "    allCoords: list of coordinate arrays\n",
    "    weights: list of weights\n",
    "    threshold: threshold value used to scale the RMDS\n",
    "    \n",
    "    Returns RMSD values for individual atoms (rmsd) \n",
    "    and each atom's RMSD over the whole set of conformations (atomRmsds)\"\"\"\n",
    "        \n",
    "    nStruct = len(allCoords)\n",
    "\n",
    "    refCoords = allCoords[0]\n",
    "    meanCoords = zeros(refCoords.shape)\n",
    "    rotations = []\n",
    "\n",
    "    for index, coords in enumerate(allCoords) :\n",
    "        \n",
    "        if index == 0:\n",
    "            rotation = identity(3)\n",
    "    \n",
    "    else:  \n",
    "        \n",
    "        rotation, coords = alignCoords(refCoords, coords, weights)\n",
    "        allCoords[index] = coords \n",
    "      \n",
    "    rotations.append(rotation)\n",
    "    meanCoords += coords\n",
    "    \n",
    "    meanCoords /= nStruct\n",
    "  \n",
    "    rmsds, atomRmsds = calcRmsds(meanCoords, allCoords, weights)  \n",
    "  \n",
    "    bestRmsd = min(rmsds)\n",
    "    bestIndex = rmsds.index(bestRmsd)\n",
    "    bestCoords = allCoords[bestIndex]\n",
    "\n",
    "    weightScale = atomRmsds/threshold\n",
    "    weights *= exp(-weightScale*weightScale)\n",
    "  \n",
    "    meanCoords = bestCoords.copy()\n",
    "  \n",
    "    for index, coords in enumerate(allCoords) :\n",
    "        \n",
    "        if index != bestIndex :\n",
    "            \n",
    "            rotation, coords = alignCoords(bestCoords, coords, weights)\n",
    "            rotations[index] = rotation\n",
    "            allCoords[index] = coords \n",
    "            meanCoords += coords\n",
    "      \n",
    "    meanCoords /= nStruct     \n",
    "    weights = ones(len(weights))\n",
    "    rmsds, atomRmsds = calcRmsds(meanCoords, allCoords, weights)\n",
    "  \n",
    "    return allCoords, rmsds, atomRmsds, rotations"
   ]
  },
  {
   "cell_type": "code",
   "execution_count": null,
   "metadata": {},
   "outputs": [],
   "source": []
  }
 ],
 "metadata": {
  "kernelspec": {
   "display_name": "Python 3",
   "language": "python",
   "name": "python3"
  },
  "language_info": {
   "codemirror_mode": {
    "name": "ipython",
    "version": 3
   },
   "file_extension": ".py",
   "mimetype": "text/x-python",
   "name": "python",
   "nbconvert_exporter": "python",
   "pygments_lexer": "ipython3",
   "version": "3.9.0"
  }
 },
 "nbformat": 4,
 "nbformat_minor": 4
}

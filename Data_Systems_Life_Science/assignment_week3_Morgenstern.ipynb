{
 "cells": [
  {
   "cell_type": "markdown",
   "metadata": {},
   "source": [
    "# Week 3 Assignment - Christina Morgenstern"
   ]
  },
  {
   "cell_type": "markdown",
   "metadata": {},
   "source": [
    "This assignment involves the writing of Python code for measuring conservation, calculating substitution matrices and calculating distance matrices."
   ]
  },
  {
   "cell_type": "code",
   "execution_count": 14,
   "metadata": {},
   "outputs": [],
   "source": [
    "# import libraries for assignment\n",
    "import numpy as np\n",
    "from math import log"
   ]
  },
  {
   "cell_type": "markdown",
   "metadata": {},
   "source": [
    "### 1. Measuring Conservation"
   ]
  },
  {
   "cell_type": "code",
   "execution_count": 9,
   "metadata": {},
   "outputs": [
    {
     "data": {
      "text/plain": [
       "array([['C', 'T', 'G', 'A', 'T', 'G', 'T', 'G', 'A', 'C', 'A', 'A', 'T',\n",
       "        'C', 'T', 'C', 'T', 'C', 'G', 'A', 'C'],\n",
       "       ['T', 'C', 'G', 'A', 'T', 'G', 'C', 'T', 'G', 'A', 'C', 'C', 'G',\n",
       "        'A', 'G', 'A', 'A', 'T', 'C', 'T', 'T'],\n",
       "       ['C', 'C', 'T', 'C', 'C', 'G', 'C', 'C', 'G', 'C', 'G', 'C', 'A',\n",
       "        'T', 'C', 'A', 'C', 'T', 'C', 'A', 'G'],\n",
       "       ['C', 'C', 'A', 'T', 'T', 'A', 'A', 'G', 'A', 'G', 'T', 'C', 'T',\n",
       "        'C', 'A', 'C', 'C', 'G', 'C', 'C', 'A'],\n",
       "       ['A', 'A', 'A', 'C', 'A', 'G', 'A', 'A', 'A', 'T', 'T', 'T', 'A',\n",
       "        'G', 'T', 'C', 'G', 'C', 'T', 'T', 'A'],\n",
       "       ['T', 'G', 'A', 'C', 'G', 'G', 'C', 'G', 'C', 'C', 'A', 'G', 'A',\n",
       "        'T', 'T', 'G', 'C', 'A', 'C', 'C', 'C'],\n",
       "       ['C', 'C', 'T', 'C', 'T', 'C', 'T', 'T', 'C', 'G', 'T', 'G', 'A',\n",
       "        'A', 'T', 'G', 'G', 'A', 'C', 'T', 'C']], dtype='<U1')"
      ]
     },
     "execution_count": 9,
     "metadata": {},
     "output_type": "execute_result"
    }
   ],
   "source": [
    "# generate random matrix of 7 rows and 21 columns with DNA alphabet\n",
    "align = np.random.choice(list('ACTG'), (7,21))\n",
    "align"
   ]
  },
  {
   "cell_type": "code",
   "execution_count": 10,
   "metadata": {},
   "outputs": [],
   "source": [
    "# DNA scoring matrix\n",
    "DNA_1 = {'G': { 'G':1, 'C':0, 'A':0, 'T':0 },\n",
    "         'C': { 'G':0, 'C':1, 'A':0, 'T':0 },\n",
    "         'A': { 'G':0, 'C':0, 'A':1, 'T':0 },\n",
    "         'T': { 'G':0, 'C':0, 'A':0, 'T':1 }}"
   ]
  },
  {
   "cell_type": "code",
   "execution_count": 11,
   "metadata": {},
   "outputs": [],
   "source": [
    "def profile(alignment):\n",
    "  \"\"\" Function to generate a profile represented as a list of dictionaries.\n",
    "  Takes in an alignment and returns profile.\"\"\"\n",
    "\n",
    "  n = len(alignment[0])\n",
    "  nSeq = float(len(alignment))\n",
    "  prof = []\n",
    "  \n",
    "  for i in range(n):\n",
    "    counts = {}\n",
    "    \n",
    "    for seq in alignment:\n",
    "      letter = seq[i]\n",
    "      if letter == '-':\n",
    "        continue\n",
    "    \n",
    "      counts[letter] = counts.get(letter, 0) + 1\n",
    "    \n",
    "    for letter in counts:\n",
    "      counts[letter] /= nSeq\n",
    "    \n",
    "    prof.append(counts)\n",
    "\n",
    "  return prof"
   ]
  },
  {
   "cell_type": "code",
   "execution_count": 12,
   "metadata": {},
   "outputs": [],
   "source": [
    "def getConservation(align, simMatrix):\n",
    "  \"\"\"Function to calculate conservation of sequences in a multiple alignment.\n",
    "     Takes as input an alignment and a substitution matrix (simMatrix).\n",
    "     Returns a score for similarity between sequence elements.\"\"\"\n",
    "    \n",
    "  conservation = []\n",
    "  prof = profile(align)\n",
    "  \n",
    "  for compDict in prof:\n",
    "    \n",
    "    items = list(compDict.items())  \n",
    "\n",
    "    items.sort( key=lambda x: x[1] )\n",
    "        \n",
    "    score = 0.0\n",
    "    \n",
    "    for resA, compA in items:\n",
    "      for resB, compB in items:\n",
    "        score += compA * compB * simMatrix[resA][resB]\n",
    " \n",
    "    bestLetter = items[-1][0]\n",
    "    maxScore = simMatrix[bestLetter][bestLetter]\n",
    "   \n",
    "    score /= maxScore\n",
    "    conservation.append(score)\n",
    "  \n",
    "  return conservation\n"
   ]
  },
  {
   "cell_type": "code",
   "execution_count": 13,
   "metadata": {},
   "outputs": [
    {
     "data": {
      "text/plain": [
       "[0.42857142857142855,\n",
       " 0.3877551020408163,\n",
       " 0.346938775510204,\n",
       " 0.42857142857142855,\n",
       " 0.3877551020408163,\n",
       " 0.5510204081632654,\n",
       " 0.346938775510204,\n",
       " 0.30612244897959184,\n",
       " 0.346938775510204,\n",
       " 0.30612244897959184,\n",
       " 0.30612244897959184,\n",
       " 0.30612244897959184,\n",
       " 0.42857142857142855,\n",
       " 0.26530612244897955,\n",
       " 0.3877551020408163,\n",
       " 0.346938775510204,\n",
       " 0.30612244897959184,\n",
       " 0.26530612244897955,\n",
       " 0.5510204081632654,\n",
       " 0.346938775510204,\n",
       " 0.30612244897959184]"
      ]
     },
     "execution_count": 13,
     "metadata": {},
     "output_type": "execute_result"
    }
   ],
   "source": [
    "# call conservation function on random DNA alignment\n",
    "getConservation(align, DNA_1)"
   ]
  },
  {
   "cell_type": "markdown",
   "metadata": {},
   "source": [
    "Calling the getConservation function on the random DNA matrix calculates a conservation (similarity) value for each column of the multiple aligned sequences. Low values indicate low similarity and thus low conservation, high values indicate high similarity and thus high conservation. A value of 1 indicates 100% similarity of all residues in the respective column."
   ]
  },
  {
   "cell_type": "markdown",
   "metadata": {},
   "source": [
    "### 2. Calculating substitution matrices"
   ]
  },
  {
   "cell_type": "code",
   "execution_count": 16,
   "metadata": {},
   "outputs": [
    {
     "data": {
      "text/plain": [
       "array([['S', 'Y', 'T', 'K', 'V', 'I', 'Y', 'M', 'Q', 'M', 'L', 'V', 'H',\n",
       "        'N', 'D', 'F', 'V', 'A', 'I', 'G', 'T'],\n",
       "       ['K', 'V', 'D', 'E', 'V', 'D', 'E', 'F', 'Q', 'N', 'S', 'F', 'W',\n",
       "        'H', 'P', 'P', 'A', 'G', 'P', 'F', 'S'],\n",
       "       ['G', '-', 'G', 'S', 'R', 'Q', 'D', 'S', 'C', 'C', 'Q', 'D', 'W',\n",
       "        'L', 'S', 'K', 'V', 'E', 'N', 'M', 'Y'],\n",
       "       ['M', 'V', 'Y', 'K', 'P', 'S', 'M', 'Q', 'D', 'R', 'N', 'E', 'T',\n",
       "        'C', 'K', 'K', 'V', 'Y', 'S', 'N', 'I'],\n",
       "       ['W', 'R', 'E', 'H', 'E', 'Y', 'R', 'F', 'W', 'Q', 'N', 'R', 'F',\n",
       "        'T', 'H', 'F', 'L', 'M', 'F', '-', 'R'],\n",
       "       ['E', 'R', 'I', 'K', 'D', 'Y', '-', 'T', 'I', 'N', 'C', 'W', 'V',\n",
       "        'N', 'D', 'Q', 'K', 'K', 'Y', 'D', 'A'],\n",
       "       ['K', 'D', 'G', 'P', 'A', 'G', 'K', 'D', 'D', 'W', 'F', 'N', '-',\n",
       "        'S', 'H', 'T', 'E', 'A', 'M', 'M', 'Y']], dtype='<U1')"
      ]
     },
     "execution_count": 16,
     "metadata": {},
     "output_type": "execute_result"
    }
   ],
   "source": [
    "# generate 7x21 matrix of alignments containing amino acids and gap (-) elements\n",
    "align_aa = np.random.choice(list('GAIVLMFYWHCPKRDEQNST-'), (7,21))\n",
    "align_aa"
   ]
  },
  {
   "cell_type": "code",
   "execution_count": 17,
   "metadata": {},
   "outputs": [],
   "source": [
    "# substitution matrix for sequence alignment of proteins\n",
    "BLOSUM62 = {'A':{'A': 4,'R':-1,'N':-2,'D':-2,'C': 0,'Q':-1,'E':-1,'G': 0,'H':-2,'I':-1,\n",
    "                 'L':-1,'K':-1,'M':-1,'F':-2,'P':-1,'S': 1,'T': 0,'W':-3,'Y':-2,'V': 0,'X':0},\n",
    "            'R':{'A':-1,'R': 5,'N': 0,'D':-2,'C':-3,'Q': 1,'E': 0,'G':-2,'H': 0,'I':-3,\n",
    "                 'L':-2,'K': 2,'M':-1,'F':-3,'P':-2,'S':-1,'T':-1,'W':-3,'Y':-2,'V':-3,'X':0},\n",
    "            'N':{'A':-2,'R': 0,'N': 6,'D': 1,'C':-3,'Q': 0,'E': 0,'G': 0,'H': 1,'I':-3,\n",
    "                 'L':-3,'K': 0,'M':-2,'F':-3,'P':-2,'S': 1,'T': 0,'W':-4,'Y':-2,'V':-3,'X':0},\n",
    "            'D':{'A':-2,'R':-2,'N': 1,'D': 6,'C':-3,'Q': 0,'E': 2,'G':-1,'H':-1,'I':-3,\n",
    "                 'L':-4,'K':-1,'M':-3,'F':-3,'P':-1,'S': 0,'T':-1,'W':-4,'Y':-3,'V':-3,'X':0},\n",
    "            'C':{'A': 0,'R':-3,'N':-3,'D':-3,'C': 9,'Q':-3,'E':-4,'G':-3,'H':-3,'I':-1,\n",
    "                 'L':-1,'K':-3,'M':-1,'F':-2,'P':-3,'S':-1,'T':-1,'W':-2,'Y':-2,'V':-1,'X':0},\n",
    "            'Q':{'A':-1,'R': 1,'N': 0,'D': 0,'C':-3,'Q': 5,'E': 2,'G':-2,'H': 0,'I':-3,\n",
    "                 'L':-2,'K': 1,'M': 0,'F':-3,'P':-1,'S': 0,'T':-1,'W':-2,'Y':-1,'V':-2,'X':0},\n",
    "            'E':{'A':-1,'R': 0,'N': 0,'D': 2,'C':-4,'Q': 2,'E': 5,'G':-2,'H': 0,'I':-3,\n",
    "                 'L':-3,'K': 1,'M':-2,'F':-3,'P':-1,'S': 0,'T':-1,'W':-3,'Y':-2,'V':-2,'X':0},\n",
    "            'G':{'A': 0,'R':-2,'N': 0,'D':-1,'C':-3,'Q':-2,'E':-2,'G': 6,'H':-2,'I':-4,\n",
    "                 'L':-4,'K':-2,'M':-3,'F':-3,'P':-2,'S': 0,'T':-2,'W':-2,'Y':-3,'V':-3,'X':0},\n",
    "            'H':{'A':-2,'R': 0,'N': 1,'D':-1,'C':-3,'Q': 0,'E': 0,'G':-2,'H': 8,'I':-3,\n",
    "                 'L':-3,'K':-1,'M':-2,'F':-1,'P':-2,'S':-1,'T':-2,'W':-2,'Y': 2,'V':-3,'X':0},\n",
    "            'I':{'A':-1,'R':-3,'N':-3,'D':-3,'C':-1,'Q':-3,'E':-3,'G':-4,'H':-3,'I': 4,\n",
    "                 'L': 2,'K':-3,'M': 1,'F': 0,'P':-3,'S':-2,'T':-1,'W':-3,'Y':-1,'V': 3,'X':0},\n",
    "            'L':{'A':-1,'R':-2,'N':-3,'D':-4,'C':-1,'Q':-2,'E':-3,'G':-4,'H':-3,'I': 2,\n",
    "                 'L': 4,'K':-2,'M': 2,'F': 0,'P':-3,'S':-2,'T':-1,'W':-2,'Y':-1,'V': 1,'X':0},\n",
    "            'K':{'A':-1,'R': 2,'N': 0,'D':-1,'C':-3,'Q': 1,'E': 1,'G':-2,'H':-1,'I':-3,\n",
    "                 'L':-2,'K': 5,'M':-1,'F':-3,'P':-1,'S': 0,'T':-1,'W':-3,'Y':-2,'V':-2,'X':0},\n",
    "            'M':{'A':-1,'R':-1,'N':-2,'D':-3,'C':-1,'Q': 0,'E':-2,'G':-3,'H':-2,'I': 1,\n",
    "                 'L': 2,'K':-1,'M': 5,'F': 0,'P':-2,'S':-1,'T':-1,'W':-1,'Y':-1,'V': 1,'X':0},\n",
    "            'F':{'A':-2,'R':-3,'N':-3,'D':-3,'C':-2,'Q':-3,'E':-3,'G':-3,'H':-1,'I': 0,\n",
    "                 'L': 0,'K':-3,'M': 0,'F': 6,'P':-4,'S':-2,'T':-2,'W': 1,'Y': 3,'V':-1,'X':0},\n",
    "            'P':{'A':-1,'R':-2,'N':-2,'D':-1,'C':-3,'Q':-1,'E':-1,'G':-2,'H':-2,'I':-3,\n",
    "                 'L':-3,'K':-1,'M':-2,'F':-4,'P': 7,'S':-1,'T':-1,'W':-4,'Y':-3,'V':-2,'X':0},\n",
    "            'S':{'A': 1,'R':-1,'N': 1,'D': 0,'C':-1,'Q': 0,'E': 0,'G': 0,'H':-1,'I':-2,\n",
    "                 'L':-2,'K': 0,'M':-1,'F':-2,'P':-1,'S': 4,'T': 1,'W':-3,'Y':-2,'V':-2,'X':0},\n",
    "            'T':{'A': 0,'R':-1,'N': 0,'D':-1,'C':-1,'Q':-1,'E':-1,'G':-2,'H':-2,'I':-1,\n",
    "                 'L':-1,'K':-1,'M':-1,'F':-2,'P':-1,'S': 1,'T': 5,'W':-2,'Y':-2,'V': 0,'X':0},\n",
    "            'W':{'A':-3,'R':-3,'N':-4,'D':-4,'C':-2,'Q':-2,'E':-3,'G':-2,'H':-2,'I':-3,\n",
    "                 'L':-2,'K':-3,'M':-1,'F': 1,'P':-4,'S':-3,'T':-2,'W':11,'Y': 2,'V':-3,'X':0},\n",
    "            'Y':{'A':-2,'R':-2,'N':-2,'D':-3,'C':-2,'Q':-1,'E':-2,'G':-3,'H': 2,'I':-1,\n",
    "                 'L':-1,'K':-2,'M':-1,'F': 3,'P':-3,'S':-2,'T':-2,'W': 2,'Y': 7,'V':-1,'X':0},\n",
    "            'V':{'A': 0,'R':-3,'N':-3,'D':-3,'C':-1,'Q':-2,'E':-2,'G':-3,'H':-3,'I': 3,\n",
    "                 'L': 1,'K':-2,'M': 1,'F':-1,'P':-2,'S':-2,'T': 0,'W':-3,'Y':-1,'V': 4,'X':0},\n",
    "            'X':{'A': 0,'R': 0,'N': 0,'D': 0,'C': 0,'Q': 0,'E': 0,'G': 0,'H': 0,'I': 0,\n",
    "                 'L': 0,'K': 0,'M': 0,'F': 0,'P': 0,'S': 0,'T': 0,'W': 0,'Y': 0,'V': 0,'X':0}}"
   ]
  },
  {
   "cell_type": "code",
   "execution_count": 18,
   "metadata": {},
   "outputs": [],
   "source": [
    "def calcSubstitutionMatrix(alignments, alphabet, maxVal, smooth=5):\n",
    " \n",
    "  \"\"\" Function to calculate substitution matrix.\n",
    "  Takes as arguments a sequence alignment, a sequence alphabet and a maximum value as well as a smoothing value.\n",
    "  Returns substitution matrix.\"\"\"\n",
    "\n",
    "  matrix = {}\n",
    "  counts = {}\n",
    "  \n",
    "  for letterA in alphabet:\n",
    "    subDict = {}\n",
    "    \n",
    "    for letterB in alphabet:\n",
    "      subDict[letterB] = 0\n",
    "  \n",
    "    matrix[letterA] = subDict\n",
    "    counts[letterA] = 0\n",
    "  \n",
    "  totalRes = 0.0\n",
    "  totalSub = 0.0\n",
    "\n",
    "  for align in alignments:\n",
    " \n",
    "    numPos = len(align[0])\n",
    "\n",
    "    for i in range(numPos):\n",
    " \n",
    "      letters = []\n",
    "      \n",
    "      for seq in align:\n",
    "\n",
    "        letter = seq[i]\n",
    "        if letter == '-':\n",
    "          continue\n",
    "    \n",
    "        letters.append(letter)\n",
    "\n",
    "      for letterA in letters:\n",
    "        counts[letterA] += 1\n",
    "      \n",
    "        for letterB in letters:          \n",
    "          matrix[letterA][letterB] += 1\n",
    "\n",
    "      numLetters = len(letters)\n",
    "      totalRes += numLetters    \n",
    "      totalSub += numLetters * numLetters\n",
    "\n",
    "  averageComp = {}    \n",
    "  for letter in alphabet:\n",
    "    averageComp[letter] = counts[letter]/totalRes      \n",
    "\n",
    "  maxScore = None\n",
    "  for resA in alphabet:\n",
    "    for resB in alphabet:\n",
    "\n",
    "      expected = averageComp[resA] * averageComp[resB]\n",
    "      \n",
    "      if not expected:\n",
    "        continue\n",
    "\n",
    "      observed = matrix[resA][resB]\n",
    "      weight = 1.0 / (1.0+(observed/smooth))\n",
    "\n",
    "      observed /= totalSub\n",
    "      observed = weight*expected + (1-weight)*observed\n",
    "\n",
    "      logOdds = log(observed/expected)\n",
    "                  \n",
    "      if (maxScore is None) or (logOdds>maxScore):\n",
    "        maxScore = logOdds\n",
    "      \n",
    "      matrix[resA][resB] = logOdds\n",
    "\n",
    "  maxScore = abs(maxScore)\n",
    "\n",
    "  for resA in alphabet:\n",
    "    for resB in alphabet:\n",
    "      matrix[resA][resB] = int(maxVal*matrix[resA][resB]/maxScore)\n",
    "\n",
    "  return matrix"
   ]
  },
  {
   "cell_type": "code",
   "execution_count": 19,
   "metadata": {},
   "outputs": [],
   "source": [
    "# get amino acid residues as keys from BLOSUM62 matrix\n",
    "aminoAcids = BLOSUM62.keys()"
   ]
  },
  {
   "cell_type": "code",
   "execution_count": 20,
   "metadata": {},
   "outputs": [
    {
     "name": "stdout",
     "output_type": "stream",
     "text": [
      "{'A': {'A': 9, 'R': 0, 'N': 0, 'D': 0, 'C': 0, 'Q': 0, 'E': 2, 'G': 0, 'H': 0, 'I': 0, 'L': 0, 'K': 0, 'M': 0, 'F': 0, 'P': 0, 'S': 0, 'T': 0, 'W': 0, 'Y': 2, 'V': 3, 'X': 0}, 'R': {'A': 0, 'R': 7, 'N': 0, 'D': 0, 'C': 0, 'Q': 0, 'E': 0, 'G': 0, 'H': 0, 'I': 0, 'L': 0, 'K': 0, 'M': 0, 'F': 0, 'P': 0, 'S': 0, 'T': 0, 'W': 0, 'Y': 2, 'V': 4, 'X': 0}, 'N': {'A': 0, 'R': 0, 'N': 8, 'D': -1, 'C': 6, 'Q': 0, 'E': 0, 'G': 0, 'H': 0, 'I': 0, 'L': 4, 'K': 0, 'M': 1, 'F': 0, 'P': 0, 'S': 0, 'T': 0, 'W': 0, 'Y': 0, 'V': 0, 'X': 0}, 'D': {'A': 0, 'R': 0, 'N': -1, 'D': 4, 'C': 0, 'Q': 1, 'E': 0, 'G': 0, 'H': 1, 'I': 1, 'L': 0, 'K': -1, 'M': 0, 'F': 0, 'P': 0, 'S': 0, 'T': 0, 'W': 0, 'Y': 0, 'V': 0, 'X': 0}, 'C': {'A': 0, 'R': 0, 'N': 6, 'D': 0, 'C': 7, 'Q': 4, 'E': 0, 'G': 0, 'H': 0, 'I': 0, 'L': 3, 'K': 0, 'M': 0, 'F': 0, 'P': 0, 'S': 0, 'T': 0, 'W': 1, 'Y': 0, 'V': 0, 'X': 0}, 'Q': {'A': 0, 'R': 0, 'N': 0, 'D': 1, 'C': 4, 'Q': 7, 'E': 0, 'G': 0, 'H': 0, 'I': 1, 'L': 0, 'K': 0, 'M': 0, 'F': 2, 'P': 0, 'S': 0, 'T': 0, 'W': 1, 'Y': 0, 'V': 0, 'X': 0}, 'E': {'A': 2, 'R': 0, 'N': 0, 'D': 0, 'C': 0, 'Q': 0, 'E': 4, 'G': 2, 'H': 0, 'I': 0, 'L': 0, 'K': 3, 'M': 0, 'F': 0, 'P': 0, 'S': 0, 'T': 0, 'W': 0, 'Y': 0, 'V': 2, 'X': 0}, 'G': {'A': 0, 'R': 0, 'N': 0, 'D': 0, 'C': 0, 'Q': 0, 'E': 2, 'G': 8, 'H': 0, 'I': 2, 'L': 0, 'K': 0, 'M': 2, 'F': 0, 'P': 0, 'S': 0, 'T': 0, 'W': 0, 'Y': 2, 'V': 0, 'X': 0}, 'H': {'A': 0, 'R': 0, 'N': 0, 'D': 1, 'C': 0, 'Q': 0, 'E': 0, 'G': 0, 'H': 9, 'I': 0, 'L': 0, 'K': 2, 'M': 0, 'F': 0, 'P': 3, 'S': 2, 'T': 0, 'W': 0, 'Y': 0, 'V': 0, 'X': 0}, 'I': {'A': 0, 'R': 0, 'N': 0, 'D': 1, 'C': 0, 'Q': 1, 'E': 0, 'G': 2, 'H': 0, 'I': 6, 'L': 0, 'K': 0, 'M': 0, 'F': 0, 'P': 0, 'S': 0, 'T': 0, 'W': 0, 'Y': 4, 'V': 0, 'X': 0}, 'L': {'A': 0, 'R': 0, 'N': 4, 'D': 0, 'C': 3, 'Q': 0, 'E': 0, 'G': 0, 'H': 0, 'I': 0, 'L': 8, 'K': 0, 'M': 0, 'F': 0, 'P': 0, 'S': 1, 'T': 0, 'W': 0, 'Y': 0, 'V': 2, 'X': 0}, 'K': {'A': 0, 'R': 0, 'N': 0, 'D': -1, 'C': 0, 'Q': 0, 'E': 3, 'G': 0, 'H': 2, 'I': 0, 'L': 0, 'K': 8, 'M': 0, 'F': 0, 'P': 3, 'S': 0, 'T': 0, 'W': 0, 'Y': -1, 'V': -1, 'X': 0}, 'M': {'A': 0, 'R': 0, 'N': 1, 'D': 0, 'C': 0, 'Q': 0, 'E': 0, 'G': 2, 'H': 0, 'I': 0, 'L': 0, 'K': 0, 'M': 6, 'F': 1, 'P': 0, 'S': 0, 'T': 0, 'W': 0, 'Y': 0, 'V': 0, 'X': 0}, 'F': {'A': 0, 'R': 0, 'N': 0, 'D': 0, 'C': 0, 'Q': 2, 'E': 0, 'G': 0, 'H': 0, 'I': 0, 'L': 0, 'K': 0, 'M': 1, 'F': 7, 'P': 0, 'S': 0, 'T': 2, 'W': 0, 'Y': 0, 'V': -1, 'X': 0}, 'P': {'A': 0, 'R': 0, 'N': 0, 'D': 0, 'C': 0, 'Q': 0, 'E': 0, 'G': 0, 'H': 3, 'I': 0, 'L': 0, 'K': 3, 'M': 0, 'F': 0, 'P': 6, 'S': 0, 'T': 0, 'W': 0, 'Y': 0, 'V': 0, 'X': 0}, 'S': {'A': 0, 'R': 0, 'N': 0, 'D': 0, 'C': 0, 'Q': 0, 'E': 0, 'G': 0, 'H': 2, 'I': 0, 'L': 1, 'K': 0, 'M': 0, 'F': 0, 'P': 0, 'S': 4, 'T': 0, 'W': 0, 'Y': 0, 'V': 0, 'X': 0}, 'T': {'A': 0, 'R': 0, 'N': 0, 'D': 0, 'C': 0, 'Q': 0, 'E': 0, 'G': 0, 'H': 0, 'I': 0, 'L': 0, 'K': 0, 'M': 0, 'F': 2, 'P': 0, 'S': 0, 'T': 6, 'W': 0, 'Y': 0, 'V': 0, 'X': 0}, 'W': {'A': 0, 'R': 0, 'N': 0, 'D': 0, 'C': 1, 'Q': 1, 'E': 0, 'G': 0, 'H': 0, 'I': 0, 'L': 0, 'K': 0, 'M': 0, 'F': 0, 'P': 0, 'S': 0, 'T': 0, 'W': 8, 'Y': 0, 'V': 0, 'X': 0}, 'Y': {'A': 2, 'R': 2, 'N': 0, 'D': 0, 'C': 0, 'Q': 0, 'E': 0, 'G': 2, 'H': 0, 'I': 4, 'L': 0, 'K': -1, 'M': 0, 'F': 0, 'P': 0, 'S': 0, 'T': 0, 'W': 0, 'Y': 7, 'V': -1, 'X': 0}, 'V': {'A': 3, 'R': 4, 'N': 0, 'D': 0, 'C': 0, 'Q': 0, 'E': 2, 'G': 0, 'H': 0, 'I': 0, 'L': 2, 'K': -1, 'M': 0, 'F': -1, 'P': 0, 'S': 0, 'T': 0, 'W': 0, 'Y': -1, 'V': 10, 'X': 0}, 'X': {'A': 0, 'R': 0, 'N': 0, 'D': 0, 'C': 0, 'Q': 0, 'E': 0, 'G': 0, 'H': 0, 'I': 0, 'L': 0, 'K': 0, 'M': 0, 'F': 0, 'P': 0, 'S': 0, 'T': 0, 'W': 0, 'Y': 0, 'V': 0, 'X': 0}}\n"
     ]
    }
   ],
   "source": [
    "# print substitution matrix of random list of alignments, list of residue letters and a scaling, maximum value for the matrix\n",
    "print(calcSubstitutionMatrix([align_aa], aminoAcids,10))"
   ]
  },
  {
   "cell_type": "markdown",
   "metadata": {},
   "source": [
    "### 3. Calculating distance matrices"
   ]
  },
  {
   "cell_type": "code",
   "execution_count": 26,
   "metadata": {},
   "outputs": [],
   "source": [
    "def calcSeqSimilarity(seqA, seqB, simMatrix):\n",
    "\n",
    "  \"\"\"Function to calculate sequence similarity.\n",
    "  Takes as arguments two sequences and a substitution matrix. \n",
    "  Returns similarity score.\"\"\"\n",
    "    \n",
    "  numPlaces = min(len(seqA), len(seqB))\n",
    "  \n",
    "  totalScore = 0.0\n",
    "  \n",
    "  for i in range(numPlaces):\n",
    "    \n",
    "    residueA = seqA[i]\n",
    "    residueB = seqB[i]\n",
    "  \n",
    "    totalScore += simMatrix[residueA][residueB]\n",
    "\n",
    "  return totalScore\n"
   ]
  },
  {
   "cell_type": "code",
   "execution_count": 27,
   "metadata": {},
   "outputs": [],
   "source": [
    "def getDistanceMatrix(seqs, simMatrix):\n",
    "  \n",
    "  \"\"\"Function to generate distance matrix.\n",
    "  Takes as arguments a list of sequences and a substitution matrix.\n",
    "  Returns matrix of similarity scores.\"\"\"\n",
    "\n",
    "  n = len(seqs)\n",
    "  matrix = [[0.0] * n for x in range(n)]\n",
    "  maxScores = [calcSeqSimilarity(x, x, simMatrix) for x in seqs]\n",
    "\n",
    "  for i in range(n-1):\n",
    "    seqA = seqs[i]\n",
    "  \n",
    "    for j in range(i+1,n):\n",
    "      seqB = seqs[j]\n",
    "      \n",
    "      score, alignA, alignB = sequenceAlign(seqA, seqB, simMatrix)\n",
    "      maxScore = max(maxScores[i],maxScores[j])\n",
    "      dist = maxScore - score\n",
    "      \n",
    "      matrix[i][j] = dist\n",
    "      matrix[j][i] = dist\n",
    "\n",
    "  return matrix\n"
   ]
  },
  {
   "cell_type": "code",
   "execution_count": 30,
   "metadata": {},
   "outputs": [],
   "source": [
    "def sequenceAlign(seqA, seqB, simMatrix=DNA_1, insert=8, extend=4):\n",
    "    \n",
    "  \"\"\"Function to align two sequences.\n",
    "  Takes as arguments two one-letter sequences, a substitution matrix and two gap penalties.\n",
    "  Returns alignment score and aligned sequences.\"\"\"\n",
    "\n",
    "\n",
    "  numI = len(seqA) + 1\n",
    "  numJ = len(seqB) + 1\n",
    "\n",
    "  scoreMatrix = [[0] * numJ for x in range(numI)]\n",
    "  routeMatrix = [[0] * numJ for x in range(numI)]\n",
    "  \n",
    "  for i in range(1, numI):\n",
    "    routeMatrix[i][0] = 1\n",
    "  \n",
    "  for j in range(1, numJ):\n",
    "    routeMatrix[0][j] = 2\n",
    "  \n",
    "  for i in range(1, numI):\n",
    "    for j in range(1, numJ):\n",
    "    \n",
    "      penalty1 = insert\n",
    "      penalty2 = insert\n",
    "      \n",
    "      if routeMatrix[i-1][j] == 1:\n",
    "        penalty1 = extend\n",
    "        \n",
    "      elif routeMatrix[i][j-1] == 2:\n",
    "        penalty2 = extend\n",
    "        \n",
    "      similarity = simMatrix[ seqA[i-1] ][ seqB[j-1] ]\n",
    "      \n",
    "      paths = [scoreMatrix[i-1][j-1] + similarity, # Route 0\n",
    "               scoreMatrix[i-1][j] - penalty1, # Route 1\n",
    "               scoreMatrix[i][j-1] - penalty2] # Route 2                     \n",
    "      \n",
    "      best = max(paths)\n",
    "      route = paths.index(best)           \n",
    "\n",
    "      scoreMatrix[i][j] = best\n",
    "      routeMatrix[i][j] = route\n",
    "      \n",
    "  alignA = []\n",
    "  alignB = []\n",
    "  \n",
    "  i = numI-1\n",
    "  j = numJ-1\n",
    "  score = scoreMatrix[i][j]\n",
    "\n",
    "    \n",
    "  while i > 0 or j > 0:\n",
    "    route = routeMatrix[i][j]    \n",
    "\n",
    "    if route == 0: # Diagonal\n",
    "      alignA.append( seqA[i-1] )\n",
    "      alignB.append( seqB[j-1] )\n",
    "      i -= 1\n",
    "      j -= 1\n",
    "\n",
    "    elif route == 1: # Gap in seqB\n",
    "      alignA.append( seqA[i-1] )\n",
    "      alignB.append( '-' )\n",
    "      i -= 1      \n",
    "\n",
    "    elif route == 2: # Gap in seqA\n",
    "      alignA.append( '-' )\n",
    "      alignB.append( seqB[j-1] ) \n",
    "      j -= 1\n",
    "  \n",
    "  alignA.reverse()\n",
    "  alignB.reverse()\n",
    "  alignA = ''.join(alignA)\n",
    "  alignB = ''.join(alignB)\n",
    "\n",
    "  return score, alignA, alignB "
   ]
  },
  {
   "cell_type": "code",
   "execution_count": 31,
   "metadata": {},
   "outputs": [],
   "source": [
    "# calculate distance matrix of DNA alignments\n",
    "distMatrix = getDistanceMatrix(align, DNA_1)"
   ]
  },
  {
   "cell_type": "code",
   "execution_count": 32,
   "metadata": {},
   "outputs": [
    {
     "name": "stdout",
     "output_type": "stream",
     "text": [
      "['0.00', '17.00', '17.00', '14.00', '16.00', '15.00', '16.00']\n",
      "['17.00', '0.00', '13.00', '17.00', '19.00', '17.00', '15.00']\n",
      "['17.00', '13.00', '0.00', '16.00', '18.00', '13.00', '15.00']\n",
      "['14.00', '17.00', '16.00', '0.00', '15.00', '16.00', '15.00']\n",
      "['16.00', '19.00', '18.00', '15.00', '0.00', '16.00', '15.00']\n",
      "['15.00', '17.00', '13.00', '16.00', '16.00', '0.00', '12.00']\n",
      "['16.00', '15.00', '15.00', '15.00', '15.00', '12.00', '0.00']\n"
     ]
    }
   ],
   "source": [
    "# print formatted distance matrix\n",
    "for row in distMatrix:\n",
    "    print(['%.2f' % x for x in row])"
   ]
  },
  {
   "cell_type": "code",
   "execution_count": null,
   "metadata": {},
   "outputs": [],
   "source": []
  }
 ],
 "metadata": {
  "kernelspec": {
   "display_name": "Python 3",
   "language": "python",
   "name": "python3"
  },
  "language_info": {
   "codemirror_mode": {
    "name": "ipython",
    "version": 3
   },
   "file_extension": ".py",
   "mimetype": "text/x-python",
   "name": "python",
   "nbconvert_exporter": "python",
   "pygments_lexer": "ipython3",
   "version": "3.9.0"
  }
 },
 "nbformat": 4,
 "nbformat_minor": 4
}
